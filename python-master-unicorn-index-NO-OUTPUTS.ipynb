{
 "cells": [
  {
   "cell_type": "code",
   "execution_count": null,
   "metadata": {},
   "outputs": [],
   "source": [
    "%matplotlib inline\n",
    "\n",
    "import matplotlib.pyplot as plt\n",
    "import numpy as np\n",
    "import pandas as pd\n",
    "from sklearn.cluster import KMeans\n",
    "from sklearn.decomposition import PCA\n",
    "from sklearn.preprocessing import StandardScaler\n",
    "from sklearn.preprocessing import MinMaxScaler\n",
    "from scipy import spatial"
   ]
  },
  {
   "cell_type": "markdown",
   "metadata": {},
   "source": [
    "# Load and clean data"
   ]
  },
  {
   "cell_type": "code",
   "execution_count": null,
   "metadata": {},
   "outputs": [],
   "source": [
    "df = pd.read_csv('unicorn-data.csv')"
   ]
  },
  {
   "cell_type": "code",
   "execution_count": null,
   "metadata": {},
   "outputs": [],
   "source": [
    "df.head()"
   ]
  },
  {
   "cell_type": "code",
   "execution_count": null,
   "metadata": {},
   "outputs": [],
   "source": [
    "df = df[(df['G'] >= 41) & (df['MP'] >= 10)] # restrict data to players who played at least half the season and 10 MPG"
   ]
  },
  {
   "cell_type": "code",
   "execution_count": null,
   "metadata": {},
   "outputs": [],
   "source": [
    "df.columns.values"
   ]
  },
  {
   "cell_type": "code",
   "execution_count": null,
   "metadata": {},
   "outputs": [],
   "source": [
    "features = df.columns.values[6:] # extract all features to be used later"
   ]
  },
  {
   "cell_type": "code",
   "execution_count": null,
   "metadata": {},
   "outputs": [],
   "source": [
    "# function to quickly get the part of a dataframe that matches a certain position\n",
    "\n",
    "def pos_subset(df, pos, colname):\n",
    "    return df[df[colname] == pos]"
   ]
  },
  {
   "cell_type": "code",
   "execution_count": null,
   "metadata": {},
   "outputs": [],
   "source": [
    "guards = pos_subset(df, 'guard', 'Pos').loc[:, features].values\n",
    "wings = pos_subset(df, 'wing', 'Pos').loc[:, features].values\n",
    "bigs = pos_subset(df, 'big', 'Pos').loc[:, features].values\n",
    "\n",
    "# standardize each subset for PCA\n",
    "\n",
    "guards = StandardScaler().fit_transform(guards)\n",
    "wings = StandardScaler().fit_transform(wings)\n",
    "bigs = StandardScaler().fit_transform(bigs)"
   ]
  },
  {
   "cell_type": "code",
   "execution_count": null,
   "metadata": {},
   "outputs": [],
   "source": [
    "subsets = [pd.DataFrame(guards), pd.DataFrame(wings), pd.DataFrame(bigs)]\n",
    "\n",
    "result = pd.concat(subsets)"
   ]
  },
  {
   "cell_type": "markdown",
   "metadata": {},
   "source": [
    "# Perform PCA"
   ]
  },
  {
   "cell_type": "code",
   "execution_count": null,
   "metadata": {},
   "outputs": [],
   "source": [
    "# function to run PCA on each subset and find the n_components for which the explained variance ratio is above 0.9\n",
    "\n",
    "def pca_subset(max_components, pos_subset, pos_name):\n",
    "    \n",
    "    pca_var_list = []\n",
    "    \n",
    "    for n_components in range(2, max_components):\n",
    "        pca = PCA(n_components = n_components)\n",
    "        components = pca.fit_transform(pos_subset)\n",
    "        pca_variance = sum(pca.explained_variance_ratio_)\n",
    "        pca_var_list.append(pca_variance)\n",
    "        print(\"For n_components = {} for {}, explained variance ratio is {}\".format(n_components, pos_name, pca_variance))\n",
    "        \n",
    "    return pca_var_list, [n for n, i in enumerate(pca_var_list) if i > 0.9][0] + 2"
   ]
  },
  {
   "cell_type": "code",
   "execution_count": null,
   "metadata": {},
   "outputs": [],
   "source": [
    "pca_var_g, var_index_g = pca_subset(21, subsets[0], 'guards')"
   ]
  },
  {
   "cell_type": "code",
   "execution_count": null,
   "metadata": {},
   "outputs": [],
   "source": [
    "pca_var_w, var_index_w = pca_subset(21, subsets[1], 'wings')"
   ]
  },
  {
   "cell_type": "code",
   "execution_count": null,
   "metadata": {},
   "outputs": [],
   "source": [
    "pca_var_b, var_index_b = pca_subset(21, subsets[2], 'bigs')"
   ]
  },
  {
   "cell_type": "code",
   "execution_count": null,
   "metadata": {},
   "outputs": [],
   "source": [
    "print(var_index_g, var_index_w, var_index_b)"
   ]
  },
  {
   "cell_type": "code",
   "execution_count": null,
   "metadata": {},
   "outputs": [],
   "source": [
    "# plot how explained variance ratio changes with n_components among each positional subset\n",
    "\n",
    "plt.style.use('fivethirtyeight')\n",
    "\n",
    "pca_fig, ax = plt.subplots()\n",
    "\n",
    "ax.plot(range(2, 21), pca_var_g, label = 'guards')\n",
    "ax.plot(range(2, 21), pca_var_w, label = 'wings')\n",
    "ax.plot(range(2, 21), pca_var_b, label = 'bigs')\n",
    "\n",
    "ax.set_xlabel('n_components')\n",
    "ax.set_ylabel('Explained variance ratio')\n",
    "\n",
    "ax.set_xticks(np.arange(2, 21, 2.0))\n",
    "ax.legend(loc = 'best')\n",
    "\n",
    "pca_fig.suptitle(\"n_components among positional PCA\", weight = 'bold', size = 18)\n",
    "\n",
    "pca_fig.text(x = -0.05, y = -0.08,\n",
    "    s = '______________________________________________________________',\n",
    "    fontsize = 14, color = 'grey', horizontalalignment='left', alpha = .3)\n",
    "\n",
    "pca_fig.text(x = -0.05, y = -.14,\n",
    "    s = 'https://dribbleanalytics.blog                     ',\n",
    "    fontsize = 14, fontname = 'Rockwell', color = 'grey', horizontalalignment='left')\n",
    "\n",
    "pca_fig.savefig('pca-variance.png', dpi = 400, bbox_inches = 'tight')"
   ]
  },
  {
   "cell_type": "code",
   "execution_count": null,
   "metadata": {},
   "outputs": [],
   "source": [
    "# function to run PCA with the n_components found earlier for each positional subset, then return the PCA data for each subset\n",
    "# function also returns the 5 most important factors for each component for the sake of basic factor loading analysis\n",
    "\n",
    "def create_pca_pos(pos_df, n_components, main_df, pos_name):\n",
    "    \n",
    "    pca = PCA(n_components = n_components)\n",
    "    \n",
    "    pos_df = pd.DataFrame(pos_df)\n",
    "    comp_pos = pca.fit_transform(pos_df)\n",
    "    pca_df_pos = pd.DataFrame(data = comp_pos, columns = ['pc_%s' %i for i in range(1, pca.n_components_ + 1)])\n",
    "    \n",
    "    pca_df_pos['Player'] = pos_subset(main_df, pos_name, 'Pos')['Player'].values\n",
    "    pca_df_pos['Pos'] = pos_name\n",
    "    \n",
    "    most_important = [np.abs(pca.components_[i]).argpartition(-5)[-5:] for i in range(n_components)]\n",
    "    most_important_names = [features[most_important[i]] for i in range(n_components)]\n",
    "    dic = {'PC{}'.format(i): most_important_names[i] for i in range(n_components)}\n",
    "    df = pd.DataFrame(dic.items())\n",
    "    \n",
    "    return pca_df_pos, df"
   ]
  },
  {
   "cell_type": "code",
   "execution_count": null,
   "metadata": {},
   "outputs": [],
   "source": [
    "pca_df_g, factor_loading_g = create_pca_pos(guards, var_index_g, df, 'guard')\n",
    "pca_df_w, factor_loading_w = create_pca_pos(wings, var_index_w, df, 'wing')\n",
    "pca_df_b, factor_loading_b = create_pca_pos(bigs, var_index_b, df, 'big')"
   ]
  },
  {
   "cell_type": "code",
   "execution_count": null,
   "metadata": {},
   "outputs": [],
   "source": [
    "# function to separate values in list in the factors column\n",
    "\n",
    "def create_factor_df(factor_df):\n",
    "    new_df = pd.DataFrame(factor_df.iloc[:, 1].values.tolist())\n",
    "    return new_df"
   ]
  },
  {
   "cell_type": "code",
   "execution_count": null,
   "metadata": {},
   "outputs": [],
   "source": [
    "# save factor dfs to be used with explanation in the post\n",
    "\n",
    "create_factor_df(factor_loading_g).to_csv('guards_factors.csv')\n",
    "create_factor_df(factor_loading_w).to_csv('wings_factors.csv')\n",
    "create_factor_df(factor_loading_b).to_csv('bigs_factors.csv')"
   ]
  },
  {
   "cell_type": "code",
   "execution_count": null,
   "metadata": {},
   "outputs": [],
   "source": [
    "# function to get the names and position of each subset\n",
    "\n",
    "def get_names_pos(df, pos, colname):\n",
    "    names = pos_subset(df, pos, colname)['Player'].values\n",
    "    pos = [pos] * len(names)\n",
    "    \n",
    "    return names, pos"
   ]
  },
  {
   "cell_type": "code",
   "execution_count": null,
   "metadata": {},
   "outputs": [],
   "source": [
    "guard_names, guard_pos = get_names_pos(df, 'guard', 'Pos')\n",
    "wing_names, wing_pos = get_names_pos(df, 'wing', 'Pos')\n",
    "big_names, big_pos = get_names_pos(df, 'big', 'Pos')\n",
    "\n",
    "names = np.concatenate((guard_names, wing_names, big_names))\n",
    "pos = np.concatenate((guard_pos, wing_pos, big_pos))"
   ]
  },
  {
   "cell_type": "markdown",
   "metadata": {},
   "source": [
    "# Calculate unicorn index"
   ]
  },
  {
   "cell_type": "code",
   "execution_count": null,
   "metadata": {},
   "outputs": [],
   "source": [
    "# get average of the principal components for each position\n",
    "\n",
    "avg_g = pca_df_g.iloc[:, :-2].mean().values\n",
    "avg_w = pca_df_w.iloc[:, :-2].mean().values\n",
    "avg_b = pca_df_b.iloc[:, :-2].mean().values"
   ]
  },
  {
   "cell_type": "code",
   "execution_count": null,
   "metadata": {},
   "outputs": [],
   "source": [
    "# get distance between each player and average values for each position, then return the values\n",
    "\n",
    "def get_dist_pos(pos_df, avg_pos, pos_names):\n",
    "    \n",
    "    euclid = []\n",
    "    manhat = []\n",
    "    cheby = []\n",
    "    \n",
    "    for index, row in pos_df.iterrows():\n",
    "        euclid.append(spatial.distance.euclidean(list(row[:-2].values), avg_pos))\n",
    "        manhat.append(spatial.distance.cityblock(list(row[:-2].values), avg_pos))\n",
    "        cheby.append(spatial.distance.chebyshev(list(row[:-2].values), avg_pos))\n",
    "        \n",
    "    dist_df = pd.DataFrame(list(zip(euclid, manhat, cheby)), columns = ['euclidean', 'manhattan', 'chebyshev'])\n",
    "    dist_df['player'] = pos_names\n",
    "    dist_df = dist_df.sort_values(by = ['euclidean'], ascending = False)\n",
    "    dist_df = dist_df.reset_index(drop = True)\n",
    "    \n",
    "    return dist_df"
   ]
  },
  {
   "cell_type": "code",
   "execution_count": null,
   "metadata": {},
   "outputs": [],
   "source": [
    "guards_dist = get_dist_pos(pca_df_g, avg_g, guard_names)\n",
    "wings_dist = get_dist_pos(pca_df_w, avg_w, wing_names)\n",
    "bigs_dist = get_dist_pos(pca_df_b, avg_b, big_names)"
   ]
  },
  {
   "cell_type": "code",
   "execution_count": null,
   "metadata": {},
   "outputs": [],
   "source": [
    "# function to plot players by highest distance in each metric for each position\n",
    "\n",
    "def plot_unique(df, metric, posname, label_height, fname):\n",
    "    \n",
    "    plt.style.use('fivethirtyeight')\n",
    "    fig, ax = plt.subplots()\n",
    "    \n",
    "    df = df.sort_values(by = metric, ascending = False)\n",
    "    \n",
    "    y = df[metric][0:10].values\n",
    "    x = np.arange(len(y))\n",
    "    \n",
    "    ax.bar(x, y, color = 'skyblue', edgecolor = 'white', linewidth = 4.5)\n",
    "    \n",
    "    ax.xaxis.set_visible(False)\n",
    "    \n",
    "    labels = df['player'].values\n",
    "\n",
    "    rects = ax.patches\n",
    "    for rect, label in zip(rects, labels):\n",
    "        ax.text(rect.get_x() + rect.get_width() / 1.75, label_height, label,\n",
    "        ha='center', va='bottom', rotation = 'vertical', color = 'black')\n",
    "        \n",
    "    fig.suptitle(\"%s distance for %s\" % (metric.capitalize(), posname), size = 18, weight = 'bold', y = 1.005)\n",
    "    ax.set_title('Highest distance from positional mean', size = 14, fontname = 'Rockwell')\n",
    "    \n",
    "    fig.text(x = 0, y = 0.02,\n",
    "        s = '___________________________________________________________',\n",
    "        fontsize = 14, color = 'grey', horizontalalignment='left', alpha = .3)\n",
    "\n",
    "    fig.text(x = 0, y = -.04,\n",
    "        s = 'https://dribbleanalytics.blog                     ',\n",
    "        fontsize = 14, fontname = 'Rockwell', color = 'grey', horizontalalignment='left')\n",
    "    \n",
    "    fig.savefig('%s.png' % fname, dpi = 400, bbox_inches = 'tight')"
   ]
  },
  {
   "cell_type": "code",
   "execution_count": null,
   "metadata": {},
   "outputs": [],
   "source": [
    "plot_unique(guards_dist, 'euclidean', 'guards', .7, 'guards_dist_euclid')"
   ]
  },
  {
   "cell_type": "code",
   "execution_count": null,
   "metadata": {},
   "outputs": [],
   "source": [
    "plot_unique(guards_dist, 'manhattan', 'guards', 1.5, 'guards_dist_manhat')"
   ]
  },
  {
   "cell_type": "code",
   "execution_count": null,
   "metadata": {},
   "outputs": [],
   "source": [
    "plot_unique(guards_dist, 'chebyshev', 'guards', .5, 'guards_dist_cheby')"
   ]
  },
  {
   "cell_type": "code",
   "execution_count": null,
   "metadata": {},
   "outputs": [],
   "source": [
    "plot_unique(wings_dist, 'euclidean', 'wings', .7, 'wings_dist_euclid')"
   ]
  },
  {
   "cell_type": "code",
   "execution_count": null,
   "metadata": {},
   "outputs": [],
   "source": [
    "plot_unique(wings_dist, 'manhattan', 'wings', 1.5, 'wings_dist_manhat')"
   ]
  },
  {
   "cell_type": "code",
   "execution_count": null,
   "metadata": {},
   "outputs": [],
   "source": [
    "plot_unique(wings_dist, 'chebyshev', 'wings', .5, 'wings_dist_cheby')"
   ]
  },
  {
   "cell_type": "code",
   "execution_count": null,
   "metadata": {},
   "outputs": [],
   "source": [
    "plot_unique(bigs_dist, 'euclidean', 'bigs', .7, 'bigs_dist_euclid')"
   ]
  },
  {
   "cell_type": "code",
   "execution_count": null,
   "metadata": {},
   "outputs": [],
   "source": [
    "plot_unique(bigs_dist, 'manhattan', 'bigs', 1.5, 'bigs_dist_manhat')"
   ]
  },
  {
   "cell_type": "code",
   "execution_count": null,
   "metadata": {},
   "outputs": [],
   "source": [
    "plot_unique(bigs_dist, 'chebyshev', 'bigs', .5, 'bigs_dist_cheby')"
   ]
  },
  {
   "cell_type": "code",
   "execution_count": null,
   "metadata": {},
   "outputs": [],
   "source": [
    "# function to normalize distances then take the average in order to create the unicorn index\n",
    "\n",
    "def get_avg_dist(df):\n",
    "    \n",
    "    norm = MinMaxScaler().fit_transform(df[['euclidean', 'manhattan', 'chebyshev']])\n",
    "    df_norm = pd.DataFrame(norm, columns = ['euclidean', 'manhattan', 'chebyshev'])\n",
    "    df_norm['unicorn index'] = (df_norm['euclidean'] + df_norm['manhattan'] + df_norm['chebyshev']) / 3\n",
    "    df_norm['player'] = df['player']\n",
    "    \n",
    "    df_norm = df_norm.sort_values(by = 'unicorn index', ascending = False)\n",
    "    df_norm = df_norm.reset_index(drop = True)\n",
    "    \n",
    "    return df_norm"
   ]
  },
  {
   "cell_type": "code",
   "execution_count": null,
   "metadata": {},
   "outputs": [],
   "source": [
    "avg_guards = get_avg_dist(guards_dist)\n",
    "avg_wings = get_avg_dist(wings_dist)\n",
    "avg_bigs = get_avg_dist(bigs_dist)"
   ]
  },
  {
   "cell_type": "code",
   "execution_count": null,
   "metadata": {},
   "outputs": [],
   "source": [
    "# function to plot unicorn index\n",
    "\n",
    "def index_plot(df, metric, posname, label_height, fname):\n",
    "    \n",
    "    plt.style.use('fivethirtyeight')\n",
    "    fig, ax = plt.subplots()\n",
    "    \n",
    "    df = df.sort_values(by = metric, ascending = False)\n",
    "    \n",
    "    y = df[metric][0:10].values\n",
    "    x = np.arange(len(y))\n",
    "    \n",
    "    ax.bar(x, y, color = 'skyblue', edgecolor = 'white', linewidth = 4.5)\n",
    "    \n",
    "    ax.set_yticks(np.arange(0, 1.2, .2))\n",
    "    \n",
    "    ax.xaxis.set_visible(False)\n",
    "    \n",
    "    labels = df['player'].values\n",
    "\n",
    "    rects = ax.patches\n",
    "    for rect, label in zip(rects, labels):\n",
    "        ax.text(rect.get_x() + rect.get_width() / 1.75, label_height, label,\n",
    "        ha='center', va='bottom', rotation = 'vertical', color = 'black')\n",
    "        \n",
    "    fig.suptitle(\"%s for %s\" % (metric.capitalize(), posname), size = 18, weight = 'bold', y = 1.005)\n",
    "    ax.set_title('1 = most unique possible', size = 14, fontname = 'Rockwell')\n",
    "    \n",
    "    fig.text(x = 0, y = 0.02,\n",
    "        s = '___________________________________________________________',\n",
    "        fontsize = 14, color = 'grey', horizontalalignment='left', alpha = .3)\n",
    "\n",
    "    fig.text(x = 0, y = -.04,\n",
    "        s = 'https://dribbleanalytics.blog                     ',\n",
    "        fontsize = 14, fontname = 'Rockwell', color = 'grey', horizontalalignment='left')\n",
    "    \n",
    "    fig.savefig('%s.png' % fname, dpi = 400, bbox_inches = 'tight')"
   ]
  },
  {
   "cell_type": "code",
   "execution_count": null,
   "metadata": {},
   "outputs": [],
   "source": [
    "index_plot(avg_guards, 'unicorn index', 'guards', .03, 'guards_unicorn_index')"
   ]
  },
  {
   "cell_type": "code",
   "execution_count": null,
   "metadata": {},
   "outputs": [],
   "source": [
    "index_plot(avg_wings, 'unicorn index', 'wings', .03, 'wings_unicorn_index')"
   ]
  },
  {
   "cell_type": "code",
   "execution_count": null,
   "metadata": {},
   "outputs": [],
   "source": [
    "index_plot(avg_bigs, 'unicorn index', 'bigs', .03, 'bigs_unicorn_index')"
   ]
  },
  {
   "cell_type": "code",
   "execution_count": null,
   "metadata": {},
   "outputs": [],
   "source": [
    "subsets = [avg_guards, avg_wings, avg_bigs]\n",
    "\n",
    "unicorn_df = pd.concat(subsets)\n",
    "unicorn_df = unicorn_df.reset_index()\n",
    "unicorn_df['index'] += 1\n",
    "unicorn_df.rename(columns = {'index': 'positional rank'}, inplace = True)\n",
    "\n",
    "unicorn_df = unicorn_df.sort_values(by = 'unicorn index', ascending = False)\n",
    "\n",
    "unicorn_df.to_csv('unicorn_index.csv', index = False)"
   ]
  }
 ],
 "metadata": {
  "kernelspec": {
   "display_name": "Python 3",
   "language": "python",
   "name": "python3"
  },
  "language_info": {
   "codemirror_mode": {
    "name": "ipython",
    "version": 3
   },
   "file_extension": ".py",
   "mimetype": "text/x-python",
   "name": "python",
   "nbconvert_exporter": "python",
   "pygments_lexer": "ipython3",
   "version": "3.6.4"
  }
 },
 "nbformat": 4,
 "nbformat_minor": 2
}
